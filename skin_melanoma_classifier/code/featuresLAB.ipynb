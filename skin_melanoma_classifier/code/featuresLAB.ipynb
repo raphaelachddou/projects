{
 "cells": [
  {
   "cell_type": "markdown",
   "metadata": {},
   "source": [
    "# IMPORTS"
   ]
  },
  {
   "cell_type": "code",
   "execution_count": 1,
   "metadata": {
    "collapsed": true
   },
   "outputs": [],
   "source": [
    "import os\n",
    "import numpy as np\n",
    "import pandas as pd\n",
    "import matplotlib.pyplot as plt\n",
    "import sklearn\n",
    "from sklearn import tree\n",
    "from sklearn.model_selection import train_test_split\n",
    "\n",
    "from scipy import ndimage\n",
    "from skimage.io import imread\n",
    "from skimage import color\n",
    "from skimage.transform import resize\n",
    "import matplotlib.pyplot as plt\n",
    "from mpl_toolkits.axes_grid1 import AxesGrid\n",
    "import time\n",
    "import cv2\n",
    "from PIL import Image\n",
    "%matplotlib inline\n",
    "import scipy.misc\n",
    "from sklearn.svm import SVC\n",
    "from PIL import Image\n",
    "\n",
    "from imblearn import under_sampling, over_sampling\n",
    "\n",
    "\n",
    "from sklearn.ensemble import RandomForestRegressor, RandomForestClassifier, AdaBoostClassifier\n",
    "from sklearn import preprocessing"
   ]
  },
  {
   "cell_type": "code",
   "execution_count": 13,
   "metadata": {
    "collapsed": true
   },
   "outputs": [],
   "source": [
    "def internal_mask(mask):\n",
    "    area = np.count_nonzero(mask)\n",
    "    thresh = int(0.7*area)    \n",
    "    count = np.inf\n",
    "    mask_reduce = np.copy(mask)\n",
    "    kernel = np.ones((5,5),np.uint8)\n",
    "    nb_iter = 0\n",
    "    while(count>=thresh and nb_iter<20):\n",
    "        erosion = cv2.erode(mask_reduce,kernel,iterations = 1)\n",
    "        mask_reduce = erosion\n",
    "        count = np.count_nonzero(mask_reduce)  \n",
    "        nb_iter+=1\n",
    "    if (nb_iter>=19):\n",
    "        return(mask)\n",
    "    else :\n",
    "        return(mask_reduce)"
   ]
  },
  {
   "cell_type": "code",
   "execution_count": 14,
   "metadata": {},
   "outputs": [
    {
     "name": "stdout",
     "output_type": "stream",
     "text": [
      "2.068430185317993\n",
      "50  : tour 1\n"
     ]
    },
    {
     "name": "stderr",
     "output_type": "stream",
     "text": [
      "/Users/raphael/anaconda3/lib/python3.6/site-packages/ipykernel_launcher.py:29: RuntimeWarning: invalid value encountered in long_scalars\n"
     ]
    },
    {
     "name": "stdout",
     "output_type": "stream",
     "text": [
      "4.177870273590088\n",
      "100  : tour 1\n",
      "6.342036247253418\n",
      "150  : tour 1\n",
      "8.370252132415771\n",
      "200  : tour 1\n",
      "10.477364301681519\n",
      "250  : tour 1\n",
      "12.428012132644653\n",
      "300  : tour 1\n",
      "14.602198123931885\n",
      "350  : tour 1\n",
      "16.711434364318848\n",
      "400  : tour 1\n",
      "18.79455018043518\n",
      "450  : tour 1\n",
      "20.83221125602722\n",
      "500  : tour 1\n",
      "22.911086082458496\n",
      "550  : tour 1\n",
      "24.829843282699585\n",
      "600  : tour 1\n",
      "26.823044300079346\n",
      "650  : tour 1\n",
      "28.885985136032104\n",
      "700  : tour 1\n",
      "30.80253314971924\n",
      "750  : tour 1\n",
      "32.69363617897034\n",
      "800  : tour 1\n",
      "34.74694323539734\n",
      "850  : tour 1\n",
      "36.84465932846069\n",
      "900  : tour 1\n",
      "36.848026275634766\n"
     ]
    }
   ],
   "source": [
    "feat_df = pd.read_csv('data/features.csv', sep=',')\n",
    "\n",
    "\n",
    "def internal_vs_outterA(idRep):\n",
    "    t = time.time()\n",
    "    m=0\n",
    "    for x in idRep:\n",
    "        m+=1\n",
    "        #get the image and the mask\n",
    "        filename = 'data/im_resized/{}_resized.jpg'.format(x)\n",
    "        filename_S = 'data/im_resized/{}_Segmentation_resized.jpg'.format(x)\n",
    "        image = imread(filename)\n",
    "        image = color.rgb2lab(image).astype(int)\n",
    "        image_S = imread(filename_S)        \n",
    "        mask_reduce = internal_mask(image_S)\n",
    "        \n",
    "        # convert the masks\n",
    "        mask_reduce = mask_reduce.astype(bool)\n",
    "        image_S = image_S.astype(bool)\n",
    "        \n",
    "        # mask the image with the good masks\n",
    "        masked_im = np.array(image[:,:,1]*image_S, np.int32)\n",
    "        im_masked_redu = np.array(image[:,:,1]*mask_reduce,np.int32)\n",
    "        area = np.count_nonzero(image_S )\n",
    "        area_redu = np.count_nonzero(mask_reduce)\n",
    "        \n",
    "        # get the features\n",
    "        res = np.sum(im_masked_redu)/area_redu\n",
    "        res -= np.sum(masked_im-im_masked_redu)/(area-area_redu)\n",
    "        \n",
    "        if(m%50 ==0):\n",
    "            print(time.time()-t)\n",
    "            print(m,\" : tour 1\")\n",
    "        feat_df.loc[feat_df['ImageId'] == x, 'Int/Out A'] = res\n",
    "    print(time.time()-t)\n",
    "    feat_df.to_csv('data/features.csv', index=None, sep=',', mode='w')\n",
    "    \n",
    "    \n",
    "internal_vs_outterA(feat_df['ImageId'].values)"
   ]
  },
  {
   "cell_type": "code",
   "execution_count": 15,
   "metadata": {},
   "outputs": [
    {
     "name": "stdout",
     "output_type": "stream",
     "text": [
      "2.0078001022338867\n",
      "50  : tour 1\n"
     ]
    },
    {
     "name": "stderr",
     "output_type": "stream",
     "text": [
      "/Users/raphael/anaconda3/lib/python3.6/site-packages/ipykernel_launcher.py:29: RuntimeWarning: invalid value encountered in long_scalars\n"
     ]
    },
    {
     "name": "stdout",
     "output_type": "stream",
     "text": [
      "3.9634311199188232\n",
      "100  : tour 1\n",
      "6.039668083190918\n",
      "150  : tour 1\n",
      "8.009406089782715\n",
      "200  : tour 1\n",
      "10.085935115814209\n",
      "250  : tour 1\n",
      "12.109220266342163\n",
      "300  : tour 1\n",
      "14.223189115524292\n",
      "350  : tour 1\n",
      "16.22164511680603\n",
      "400  : tour 1\n",
      "18.346034288406372\n",
      "450  : tour 1\n",
      "20.387951135635376\n",
      "500  : tour 1\n",
      "22.350776195526123\n",
      "550  : tour 1\n",
      "24.27724313735962\n",
      "600  : tour 1\n",
      "26.35707426071167\n",
      "650  : tour 1\n",
      "28.219162225723267\n",
      "700  : tour 1\n",
      "30.176521062850952\n",
      "750  : tour 1\n",
      "32.02519226074219\n",
      "800  : tour 1\n",
      "34.02096891403198\n",
      "850  : tour 1\n",
      "36.08991527557373\n",
      "900  : tour 1\n",
      "36.09441828727722\n"
     ]
    }
   ],
   "source": [
    "feat_df = pd.read_csv('data/features.csv', sep=',')\n",
    "\n",
    "\n",
    "def internal_vs_outterB(idRep):\n",
    "    t = time.time()\n",
    "    m=0\n",
    "    for x in idRep:\n",
    "        m+=1\n",
    "        #get the image and the mask\n",
    "        filename = 'data/im_resized/{}_resized.jpg'.format(x)\n",
    "        filename_S = 'data/im_resized/{}_Segmentation_resized.jpg'.format(x)\n",
    "        image = imread(filename)\n",
    "        image = color.rgb2lab(image).astype(int)\n",
    "        image_S = imread(filename_S)        \n",
    "        mask_reduce = internal_mask(image_S)\n",
    "        \n",
    "        # convert the masks\n",
    "        mask_reduce = mask_reduce.astype(bool)\n",
    "        image_S = image_S.astype(bool)\n",
    "        \n",
    "        # mask the image with the good masks\n",
    "        masked_im = np.array(image[:,:,2]*image_S, np.int32)\n",
    "        im_masked_redu = np.array(image[:,:,2]*mask_reduce,np.int32)\n",
    "        area = np.count_nonzero(image_S )\n",
    "        area_redu = np.count_nonzero(mask_reduce)\n",
    "        \n",
    "        # get the features\n",
    "        res = np.sum(im_masked_redu)/area_redu\n",
    "        res -= np.sum(masked_im-im_masked_redu)/(area-area_redu)\n",
    "        \n",
    "        if(m%50 ==0):\n",
    "            print(time.time()-t)\n",
    "            print(m,\" : tour 1\")\n",
    "        feat_df.loc[feat_df['ImageId'] == x, 'Int/Out B'] = res\n",
    "    print(time.time()-t)\n",
    "    feat_df.to_csv('data/features.csv', index=None, sep=',', mode='w')\n",
    "    \n",
    "    \n",
    "internal_vs_outterB(feat_df['ImageId'].values)"
   ]
  },
  {
   "cell_type": "code",
   "execution_count": 16,
   "metadata": {},
   "outputs": [
    {
     "name": "stdout",
     "output_type": "stream",
     "text": [
      "2.1534881591796875\n",
      "50  : tour 1\n"
     ]
    },
    {
     "name": "stderr",
     "output_type": "stream",
     "text": [
      "/Users/raphael/anaconda3/lib/python3.6/site-packages/ipykernel_launcher.py:29: RuntimeWarning: invalid value encountered in long_scalars\n"
     ]
    },
    {
     "name": "stdout",
     "output_type": "stream",
     "text": [
      "4.211796045303345\n",
      "100  : tour 1\n",
      "6.910973310470581\n",
      "150  : tour 1\n",
      "8.95700192451477\n",
      "200  : tour 1\n",
      "11.108717203140259\n",
      "250  : tour 1\n",
      "13.277136087417603\n",
      "300  : tour 1\n",
      "15.586517095565796\n",
      "350  : tour 1\n",
      "17.71926712989807\n",
      "400  : tour 1\n",
      "19.890920162200928\n",
      "450  : tour 1\n",
      "22.120843172073364\n",
      "500  : tour 1\n",
      "24.538928270339966\n",
      "550  : tour 1\n",
      "26.796887159347534\n",
      "600  : tour 1\n",
      "28.841928005218506\n",
      "650  : tour 1\n",
      "30.92025327682495\n",
      "700  : tour 1\n",
      "32.92864418029785\n",
      "750  : tour 1\n",
      "35.09695219993591\n",
      "800  : tour 1\n",
      "37.434386253356934\n",
      "850  : tour 1\n",
      "39.618772983551025\n",
      "900  : tour 1\n",
      "39.62285900115967\n"
     ]
    }
   ],
   "source": [
    "feat_df = pd.read_csv('data/features.csv', sep=',')\n",
    "\n",
    "\n",
    "def internal_vs_outterL(idRep):\n",
    "    t = time.time()\n",
    "    m=0\n",
    "    for x in idRep:\n",
    "        m+=1\n",
    "        #get the image and the mask\n",
    "        filename = 'data/im_resized/{}_resized.jpg'.format(x)\n",
    "        filename_S = 'data/im_resized/{}_Segmentation_resized.jpg'.format(x)\n",
    "        image = imread(filename)\n",
    "        image = color.rgb2lab(image).astype(int)\n",
    "        image_S = imread(filename_S)        \n",
    "        mask_reduce = internal_mask(image_S)\n",
    "        \n",
    "        # convert the masks\n",
    "        mask_reduce = mask_reduce.astype(bool)\n",
    "        image_S = image_S.astype(bool)\n",
    "        \n",
    "        # mask the image with the good masks\n",
    "        masked_im = np.array(image[:,:,0]*image_S, np.int32)\n",
    "        im_masked_redu = np.array(image[:,:,0]*mask_reduce,np.int32)\n",
    "        area = np.count_nonzero(image_S )\n",
    "        area_redu = np.count_nonzero(mask_reduce)\n",
    "        \n",
    "        # get the features\n",
    "        res = np.sum(im_masked_redu)/area_redu\n",
    "        res -= np.sum(masked_im-im_masked_redu)/(area-area_redu)\n",
    "        \n",
    "        if(m%50 ==0):\n",
    "            print(time.time()-t)\n",
    "            print(m,\" : tour 1\")\n",
    "        feat_df.loc[feat_df['ImageId'] == x, 'Int/Out L'] = res\n",
    "    print(time.time()-t)\n",
    "    feat_df.to_csv('data/features.csv', index=None, sep=',', mode='w')\n",
    "    \n",
    "    \n",
    "internal_vs_outterL(feat_df['ImageId'].values)"
   ]
  },
  {
   "cell_type": "code",
   "execution_count": null,
   "metadata": {
    "collapsed": true
   },
   "outputs": [],
   "source": [
    "fe"
   ]
  }
 ],
 "metadata": {
  "kernelspec": {
   "display_name": "Python 3",
   "language": "python",
   "name": "python3"
  },
  "language_info": {
   "codemirror_mode": {
    "name": "ipython",
    "version": 3
   },
   "file_extension": ".py",
   "mimetype": "text/x-python",
   "name": "python",
   "nbconvert_exporter": "python",
   "pygments_lexer": "ipython3",
   "version": "3.6.3"
  }
 },
 "nbformat": 4,
 "nbformat_minor": 2
}
