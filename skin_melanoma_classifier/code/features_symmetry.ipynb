{
 "cells": [
  {
   "cell_type": "markdown",
   "metadata": {},
   "source": [
    "# IMPORTS"
   ]
  },
  {
   "cell_type": "code",
   "execution_count": 1,
   "metadata": {
    "collapsed": true
   },
   "outputs": [],
   "source": [
    "import os\n",
    "import numpy as np\n",
    "import pandas as pd\n",
    "import matplotlib.pyplot as plt\n",
    "import sklearn\n",
    "from sklearn import tree\n",
    "from sklearn.model_selection import train_test_split\n",
    "\n",
    "from scipy import ndimage\n",
    "from skimage.io import imread\n",
    "from skimage import color\n",
    "from skimage.transform import resize\n",
    "import matplotlib.pyplot as plt\n",
    "from mpl_toolkits.axes_grid1 import AxesGrid\n",
    "import time\n",
    "import cv2\n",
    "from PIL import Image\n",
    "%matplotlib inline\n",
    "import scipy.misc\n",
    "from sklearn.svm import SVC\n",
    "\n",
    "from imblearn import under_sampling, over_sampling\n",
    "\n",
    "\n",
    "from sklearn.ensemble import RandomForestRegressor, RandomForestClassifier, AdaBoostClassifier\n",
    "from sklearn import preprocessing"
   ]
  },
  {
   "cell_type": "code",
   "execution_count": 16,
   "metadata": {
    "collapsed": true
   },
   "outputs": [],
   "source": [
    "feat_df = pd.read_csv('data/features.csv', sep=',')\n",
    "\n",
    "\n",
    "def shape_asymetry(idRep):\n",
    "    t = time.time()\n",
    "    m=0\n",
    "    for x in idRep:\n",
    "        m+=1\n",
    "        filename = 'data/im_resized/{}_resized.jpg'.format(x)\n",
    "        filename_S = 'data/im_resized/{}_Segmentation_resized.jpg'.format(x)\n",
    "        image = imread(filename)\n",
    "        image_S = imread(filename_S)\n",
    "        image_S = image_S.astype(bool)\n",
    "        \n",
    "        #On convertit l'image en niveau de gris\n",
    "        gray_image = color.rgb2gray(image)*255\n",
    "        n,p = gray_image.shape\n",
    "        i_center, j_center = ndimage.measurements.center_of_mass(image_S)\n",
    "        \n",
    "        \n",
    "        masked_im = np.array(gray_image*image_S, np.int32)\n",
    "        \n",
    "        averageDS = 100\n",
    "        \n",
    "        \n",
    "        padX = [p - int(j_center), int(j_center)]\n",
    "        padY = [n - int(i_center), int(i_center)]\n",
    "        imgP = np.pad(masked_im, [padY, padX], 'constant')\n",
    "        \n",
    "        for angle in [10*k for k in range(18)]:\n",
    "            \n",
    "         \n",
    "            rotated_image = ndimage.rotate(imgP, angle, output=np.int32 ,reshape=False)\n",
    "           \n",
    "            rotated_image = np.clip(rotated_image, 0, 255)\n",
    "            \n",
    "            \n",
    "            nbis, pbis = rotated_image.shape\n",
    "            \n",
    "            \n",
    "            DS1 = np.sum(np.abs(rotated_image[:,:pbis//2]-np.fliplr(rotated_image[:,pbis//2:pbis])))\n",
    "            DS2 = np.sum(np.abs(rotated_image[:nbis//2,:]-np.flipud(rotated_image[nbis//2:nbis, :])))\n",
    "            \n",
    "            \n",
    "            DS1 /= np.sum(np.sum(image_S*255))\n",
    "            DS2 /= np.sum(np.sum(image_S*255))\n",
    "            if((DS1+DS2)/2 < averageDS):\n",
    "                minDS1 = DS1\n",
    "                minDS2 = DS2\n",
    "                averageDS = (DS1+DS2)/2\n",
    "        \n",
    "        if(m%50 ==0):\n",
    "            print(time.time()-t)\n",
    "            print(m,\" : tour 1\")\n",
    "        feat_df.loc[feat_df['ImageId'] == x, 'f1'] = minDS1\n",
    "        feat_df.loc[feat_df['ImageId'] == x, 'f2'] = minDS2\n",
    "    print(time.time()-t)\n",
    "    feat_df.to_csv('data/features.csv', index=None, sep=',', mode='w')\n",
    "feat_df = feat_df[feat_df['ImageId']!='IM_000720']\n",
    "#shape_asymetry(feat_df['ImageId'].values)"
   ]
  },
  {
   "cell_type": "code",
   "execution_count": 11,
   "metadata": {
    "collapsed": true
   },
   "outputs": [],
   "source": [
    "feat_df['f1'] = 255*feat_df['f1']"
   ]
  },
  {
   "cell_type": "code",
   "execution_count": 13,
   "metadata": {
    "collapsed": true
   },
   "outputs": [],
   "source": [
    "feat_df['f2'] = 255*feat_df['f2']"
   ]
  },
  {
   "cell_type": "code",
   "execution_count": 14,
   "metadata": {
    "collapsed": true
   },
   "outputs": [],
   "source": [
    "feat_df.to_csv('data/features.csv', index=None, sep=',', mode='w')"
   ]
  },
  {
   "cell_type": "code",
   "execution_count": null,
   "metadata": {
    "collapsed": true
   },
   "outputs": [],
   "source": []
  }
 ],
 "metadata": {
  "kernelspec": {
   "display_name": "Python 3",
   "language": "python",
   "name": "python3"
  },
  "language_info": {
   "codemirror_mode": {
    "name": "ipython",
    "version": 3
   },
   "file_extension": ".py",
   "mimetype": "text/x-python",
   "name": "python",
   "nbconvert_exporter": "python",
   "pygments_lexer": "ipython3",
   "version": "3.6.3"
  }
 },
 "nbformat": 4,
 "nbformat_minor": 2
}
